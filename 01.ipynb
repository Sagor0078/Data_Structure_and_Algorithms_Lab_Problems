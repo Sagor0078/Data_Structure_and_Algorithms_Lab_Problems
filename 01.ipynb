{
  "nbformat": 4,
  "nbformat_minor": 0,
  "metadata": {
    "colab": {
      "provenance": [],
      "authorship_tag": "ABX9TyNfK2qehx2gvJIYMSACy1oq",
      "include_colab_link": true
    },
    "kernelspec": {
      "name": "python3",
      "display_name": "Python 3"
    },
    "language_info": {
      "name": "python"
    }
  },
  "cells": [
    {
      "cell_type": "markdown",
      "metadata": {
        "id": "view-in-github",
        "colab_type": "text"
      },
      "source": [
        "<a href=\"https://colab.research.google.com/github/Sagor0078/Data_Structure_and_Algorithms_Lab_Problems/blob/main/01.ipynb\" target=\"_parent\"><img src=\"https://colab.research.google.com/assets/colab-badge.svg\" alt=\"Open In Colab\"/></a>"
      ]
    },
    {
      "cell_type": "code",
      "execution_count": 1,
      "metadata": {
        "colab": {
          "base_uri": "https://localhost:8080/"
        },
        "id": "QwtPsILTnvwQ",
        "outputId": "c450c0b6-7f8b-44cf-caab-13cf907560d2"
      },
      "outputs": [
        {
          "output_type": "stream",
          "name": "stdout",
          "text": [
            "before append an element : \n",
            "[1, 2, 3, 4, 5, 6, 7, 8, 9]\n",
            "after append an element : \n",
            "[1, 2, 3, 4, 5, 6, 7, 8, 9, 23]\n",
            "before removing key_number : \n",
            "[1, 2, 3, 4, 5, 6, 7, 8, 9]\n"
          ]
        }
      ],
      "source": [
        "\n",
        "def insert(arr,key):\n",
        "  arr.append(key)\n",
        "arr = [1,2,3,4,5,6,7,8,9]\n",
        "print('before append an element : ')\n",
        "print(arr)\n",
        "key = 23\n",
        "insert(arr,key)\n",
        "print('after append an element : ')\n",
        "print(arr)\n",
        "\n",
        "#remove key\n",
        "key_remove = 23\n",
        "arr.remove(key_remove)\n",
        "print('before removing key_number : ')\n",
        "print(arr)"
      ]
    }
  ]
}