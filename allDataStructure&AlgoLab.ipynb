{
  "nbformat": 4,
  "nbformat_minor": 0,
  "metadata": {
    "colab": {
      "provenance": [],
      "authorship_tag": "ABX9TyNOLKvIzGl6vT1YnNxnvTGS",
      "include_colab_link": true
    },
    "kernelspec": {
      "name": "python3",
      "display_name": "Python 3"
    },
    "language_info": {
      "name": "python"
    }
  },
  "cells": [
    {
      "cell_type": "markdown",
      "metadata": {
        "id": "view-in-github",
        "colab_type": "text"
      },
      "source": [
        "<a href=\"https://colab.research.google.com/github/Sagor0078/Data_Structure_and_Algorithms_Lab_Problems/blob/main/allDataStructure%26AlgoLab.ipynb\" target=\"_parent\"><img src=\"https://colab.research.google.com/assets/colab-badge.svg\" alt=\"Open In Colab\"/></a>"
      ]
    },
    {
      "cell_type": "code",
      "execution_count": null,
      "metadata": {
        "colab": {
          "base_uri": "https://localhost:8080/"
        },
        "id": "QwtPsILTnvwQ",
        "outputId": "c450c0b6-7f8b-44cf-caab-13cf907560d2"
      },
      "outputs": [
        {
          "output_type": "stream",
          "name": "stdout",
          "text": [
            "before append an element : \n",
            "[1, 2, 3, 4, 5, 6, 7, 8, 9]\n",
            "after append an element : \n",
            "[1, 2, 3, 4, 5, 6, 7, 8, 9, 23]\n",
            "before removing key_number : \n",
            "[1, 2, 3, 4, 5, 6, 7, 8, 9]\n"
          ]
        }
      ],
      "source": [
        "\n",
        "def insert(arr,key):\n",
        "  arr.append(key)\n",
        "arr = [1,2,3,4,5,6,7,8,9]\n",
        "print('before append an element : ')\n",
        "print(arr)\n",
        "key = 23\n",
        "insert(arr,key)\n",
        "print('after append an element : ')\n",
        "print(arr)\n",
        "\n",
        "#remove key\n",
        "key_remove = 23\n",
        "arr.remove(key_remove)\n",
        "print('before removing key_number : ')\n",
        "print(arr)"
      ]
    },
    {
      "cell_type": "code",
      "source": [],
      "metadata": {
        "id": "gUwatsCRcFSH"
      },
      "execution_count": null,
      "outputs": []
    },
    {
      "cell_type": "code",
      "source": [
        "\n",
        "n = int(input())\n",
        "print('number of array element')\n",
        "a = list(map(int,input().split()))\n",
        "for i in range(n-1):\n",
        "  for j in range(1,n):\n",
        "    if a[j-1] > a[j]:\n",
        "      a[j-1], a[j] = a[j] , a[j-1]\n",
        "  print(i+1, 'step :',*a)\n"
      ],
      "metadata": {
        "colab": {
          "base_uri": "https://localhost:8080/"
        },
        "id": "I92QQupjqXbA",
        "outputId": "921d4dfa-8ec8-4f4f-cff6-a7dd5284f9ca"
      },
      "execution_count": null,
      "outputs": [
        {
          "output_type": "stream",
          "name": "stdout",
          "text": [
            "5\n",
            "number of array element\n",
            "5 4 3 2 1\n",
            "1 step : 4 3 2 1 5\n",
            "2 step : 3 2 1 4 5\n",
            "3 step : 2 1 3 4 5\n",
            "4 step : 1 2 3 4 5\n"
          ]
        }
      ]
    },
    {
      "cell_type": "code",
      "source": [
        "def linear_search(arr,n,x):\n",
        "  for i in range(n):\n",
        "    if arr[i] == x:\n",
        "      return i\n",
        "  return -1\n",
        "\n",
        "n = int(input())\n",
        "arr = list(map(int,input().split()))\n",
        "print('which element we found : ')\n",
        "x = int(input())\n",
        "result = linear_search(arr,n,x)\n",
        "if result == -1:\n",
        "   print('Not Found')\n",
        "else: \n",
        "   print('found at index :',result)"
      ],
      "metadata": {
        "colab": {
          "base_uri": "https://localhost:8080/"
        },
        "id": "fI9-cQlBr0ae",
        "outputId": "ce5dd568-215a-4e01-a6e1-47fae76f18c8"
      },
      "execution_count": null,
      "outputs": [
        {
          "output_type": "stream",
          "name": "stdout",
          "text": [
            "7\n",
            "3 4 5 6 7 8 9\n",
            "which element we found : \n",
            "7\n",
            "found at index : 4\n"
          ]
        }
      ]
    },
    {
      "cell_type": "code",
      "source": [
        "\n",
        "def binary_search(arr,item):\n",
        "  low = 0\n",
        "  high = len(arr) - 1\n",
        "  mid = 0\n",
        "  while low<= high:\n",
        "    mid = low + (high - low) // 2\n",
        "    if item == arr[mid]:\n",
        "      return mid\n",
        "    if item < arr[mid]:\n",
        "      high = mid - 1\n",
        "    else:\n",
        "      low = mid+1\n",
        "  return -1\n",
        "\n",
        "  \n",
        "print('sacnning total array element :')\n",
        "n = int(input())\n",
        "print('scanning array element : ')\n",
        "arr = list(map(int,input().split()))\n",
        "print('scan searching element :')\n",
        "item = int(input())\n",
        "result = binary_search(arr,item)\n",
        "if result != -1:\n",
        "  print('item found at position',str(result))\n",
        "else:\n",
        "  print('Not Found!')\n"
      ],
      "metadata": {
        "colab": {
          "base_uri": "https://localhost:8080/"
        },
        "id": "_1MxzqonthtP",
        "outputId": "dd86a2cf-7671-4fc9-97c4-619473e8025a"
      },
      "execution_count": null,
      "outputs": [
        {
          "output_type": "stream",
          "name": "stdout",
          "text": [
            "sacnning total array element :\n",
            "7\n",
            "scanning array element : \n",
            "9 8 7 6 5 4 3\n",
            "scan searching element :\n",
            "6\n",
            "item found at position 3\n"
          ]
        }
      ]
    },
    {
      "cell_type": "code",
      "source": [
        "\n",
        "def merge(left,right):\n",
        "  result = []\n",
        "  i,j = 0, 0 \n",
        "  while i < len(left) and j < len(right):\n",
        "      if left[i] <= right[j]:\n",
        "        result.append(left[i])\n",
        "        i+=1\n",
        "      else:\n",
        "        result.append(right[j])\n",
        "        j+=1\n",
        "  result += left[i:]\n",
        "  result += right[j:]\n",
        "  return result\n",
        "       \n",
        "\n",
        "def mergesort(arr):\n",
        "    if (len(arr) <= 1):\n",
        "        return arr\n",
        "    mid = len(arr) // 2\n",
        "    left = mergesort(arr[:mid])\n",
        "    right = mergesort(arr[mid:])\n",
        "    return merge(left,right)\n",
        "\n",
        "\n",
        "\n",
        "# n = int(input())\n",
        "arr = [9,8,7,5,6,2,3,1]\n",
        "print('sorted array : ')\n",
        "print(mergesort(arr))"
      ],
      "metadata": {
        "colab": {
          "base_uri": "https://localhost:8080/"
        },
        "id": "Tq3Pd7O8xlSp",
        "outputId": "97b5a5cf-afa5-4b7f-e870-9411bf36418a"
      },
      "execution_count": null,
      "outputs": [
        {
          "output_type": "stream",
          "name": "stdout",
          "text": [
            "sorted array : \n",
            "[1, 2, 3, 5, 6, 7, 8, 9]\n"
          ]
        }
      ]
    },
    {
      "cell_type": "code",
      "source": [
        "a = [64,25,12,22,11]\n",
        "for i in range(len(a)):\n",
        "  min_idx = i\n",
        "  for j in range(i+1,len(a)):\n",
        "    if a[min_idx] > a[j] :\n",
        "      min_idx = j\n",
        "  a[i] , a[min_idx] = a[min_idx] , a[i]\n",
        "print('Sorted Array : ')\n",
        "print(a)"
      ],
      "metadata": {
        "colab": {
          "base_uri": "https://localhost:8080/"
        },
        "id": "02_bFPZtWXzk",
        "outputId": "9e1ed0e4-3b60-4f52-cae1-e8f674bfc099"
      },
      "execution_count": null,
      "outputs": [
        {
          "output_type": "stream",
          "name": "stdout",
          "text": [
            "Sorted Array : \n",
            "[11, 12, 22, 25, 64]\n"
          ]
        }
      ]
    },
    {
      "cell_type": "code",
      "source": [
        "\n",
        "def search(txt,pat):\n",
        "     M = len(pat)\n",
        "     N = len(txt)\n",
        "     for i in range(N-M+1):\n",
        "       j = 0\n",
        "       while j < M :\n",
        "         if txt[i+j] != pat[j] :\n",
        "            break;\n",
        "         j+=1\n",
        "       if j == M:\n",
        "         print('Pattern found at index',i)\n",
        "\n",
        "txt = 'DDBAABADAAABDCC'\n",
        "pat = 'AABA'\n",
        "search(txt,pat)"
      ],
      "metadata": {
        "colab": {
          "base_uri": "https://localhost:8080/"
        },
        "id": "9S-ZSwE2YChM",
        "outputId": "d68bac0e-cbf0-4e4b-dd0b-0066f128638c"
      },
      "execution_count": null,
      "outputs": [
        {
          "output_type": "stream",
          "name": "stdout",
          "text": [
            "Pattern found at index 3\n"
          ]
        }
      ]
    },
    {
      "cell_type": "code",
      "source": [
        "import numpy as np"
      ],
      "metadata": {
        "id": "qCozQF7acGxa"
      },
      "execution_count": null,
      "outputs": []
    },
    {
      "cell_type": "code",
      "source": [
        "# from itertools import permutations\n",
        "\n",
        "# N=4\n",
        "# sol=0\n",
        "# cols = range(N)\n",
        "# for combo in permutations(cols):                      \n",
        "#     if N==len(set(combo[i]+i for i in cols))==len(set(combo[i]-i for i in cols)):\n",
        "#         sol += 1\n",
        "#         print('Solution '+str(sol)+': '+str(combo)+'\\n')  \n",
        "#         print(\"\\n\".join(' o ' * i + ' X ' + ' o ' * (N-i-1) for i in combo) + \"\\n\\n\\n\\n\")\n",
        "def is_attack(i, j, board, N):\n",
        "  # checking for column j\n",
        "  for k in range(1, i):\n",
        "    if(board[k][j] == 1):\n",
        "      return True\n",
        "\n",
        "  # checking upper right diagonal\n",
        "  k = i-1\n",
        "  l = j+1\n",
        "  while (k>=1 and l<=N):\n",
        "    if (board[k][l] == 1):\n",
        "      return True\n",
        "    k=k+1\n",
        "    l=l+1\n",
        "\n",
        "  # checking upper left diagonal\n",
        "  k = i-1\n",
        "  l = j-1\n",
        "  while (k>=1 and l>=1):\n",
        "    if (board[k][l] == 1):\n",
        "      return True\n",
        "    k=k-1\n",
        "    l=l-1\n",
        "\n",
        "  return False\n",
        "\n",
        "def n_queen(row, n, N, board):\n",
        "  if (n==0):\n",
        "    return True\n",
        "\n",
        "  for j in range(1, N+1):\n",
        "    if(not(is_attack(row, j, board, N))):\n",
        "      board[row][j] = 1\n",
        "\n",
        "      if (n_queen(row+1, n-1, N, board)):\n",
        "        return True\n",
        "\n",
        "      board[row][j] = 0 #backtracking\n",
        "  return False\n",
        "\n",
        "if __name__ == '__main__':\n",
        "  board = [[0,0,0,0,0],[0,0,0,0,0],[0,0,0,0,0],[0,0,0,0,0],[0,0,0,0,0]]\n",
        "\n",
        "  n_queen(1, 4, 4, board)\n",
        "\n",
        "  #printing the matix\n",
        "  for i in range(1, 5):\n",
        "      print(board[i][1:])\n"
      ],
      "metadata": {
        "colab": {
          "base_uri": "https://localhost:8080/"
        },
        "id": "SNGjuC7EcIjf",
        "outputId": "bb107a79-a811-4491-86ec-03f1c2c976bf"
      },
      "execution_count": null,
      "outputs": [
        {
          "output_type": "stream",
          "name": "stdout",
          "text": [
            "[0, 1, 0, 0]\n",
            "[0, 0, 0, 1]\n",
            "[1, 0, 0, 0]\n",
            "[0, 0, 1, 0]\n"
          ]
        }
      ]
    },
    {
      "cell_type": "code",
      "source": [
        "# 13 : implementation Queue\n",
        "queue = []\n",
        "\n",
        "#adding element in queue\n",
        "queue.append('1')\n",
        "queue.append('2')\n",
        "queue.append('3')\n",
        "queue.append('4')\n",
        "\n",
        "print('initial queue : ')\n",
        "print(queue)\n",
        "\n",
        "print('\\n element dequed fromm queue')\n",
        "print(queue.pop(0))\n",
        "print(queue.pop(0))\n",
        "print(queue.pop(0))\n",
        "print('\\n queue after removing element : ')\n",
        "print(queue)"
      ],
      "metadata": {
        "id": "KGPtT5tpcM4U",
        "colab": {
          "base_uri": "https://localhost:8080/"
        },
        "outputId": "069f711c-5a72-4d61-cddc-69048ab9f1b5"
      },
      "execution_count": 2,
      "outputs": [
        {
          "output_type": "stream",
          "name": "stdout",
          "text": [
            "initial queue : \n",
            "['1', '2', '3', '4']\n",
            "\n",
            " element dequed fromm queue\n",
            "1\n",
            "2\n",
            "3\n",
            "\n",
            " queue after removing element : \n",
            "['4']\n"
          ]
        }
      ]
    },
    {
      "cell_type": "code",
      "source": [
        "def towerofHanoi(n,from_rod,to_rod,aux_rod):\n",
        "          if n == 0:\n",
        "              return\n",
        "          towerofHanoi(n-1,from_rod,aux_rod,to_rod)\n",
        "          print('Move disk',n,'from_rod',from_rod,'to_rod',to_rod)\n",
        "          towerofHanoi(n-1,aux_rod,to_rod,from_rod)\n",
        "\n",
        "n = 3\n",
        "towerofHanoi(n,'A','C','B')"
      ],
      "metadata": {
        "colab": {
          "base_uri": "https://localhost:8080/"
        },
        "id": "3aUM-ur8l2fe",
        "outputId": "4a179682-7a5b-4b3e-f983-32477c14bfc2"
      },
      "execution_count": 4,
      "outputs": [
        {
          "output_type": "stream",
          "name": "stdout",
          "text": [
            "Move disk 1 from_rod A to_rod C\n",
            "Move disk 2 from_rod A to_rod B\n",
            "Move disk 1 from_rod C to_rod B\n",
            "Move disk 3 from_rod A to_rod C\n",
            "Move disk 1 from_rod B to_rod A\n",
            "Move disk 2 from_rod B to_rod C\n",
            "Move disk 1 from_rod A to_rod C\n"
          ]
        }
      ]
    },
    {
      "cell_type": "code",
      "source": [
        "# 01 knapsack \n",
        "#  first notice that we are dealing with 2 dimensions; the first one is just an index for the items, \n",
        "#and the second one is the capacity we are dealing with right now.\n",
        "# retrieve the answer, just take max(dp[w]) between all valid w.\n",
        "def knapsack(p,wt,C,n):\n",
        "     dp = [0 for i in range(C+1)]\n",
        "     for i in range(1,n+1):\n",
        "         for w in range(C,0,-1): # starting from the back \n",
        "              if wt[i-1] <= w:   # if(w - wt[i] >= 0)\n",
        "                 dp[w] = max(dp[w], dp[w-wt[i-1]] + p[i-1])\n",
        "                #  print(dp[w])\n",
        "     return dp[C]\n",
        "\n",
        "p = [15,25,13,23]\n",
        "wt = [2,6,12,9]\n",
        "C = 20\n",
        "n = len(p)\n",
        "# knapsack(p,wt,C,n)\n",
        "print(knapsack(p,wt,C,n))"
      ],
      "metadata": {
        "colab": {
          "base_uri": "https://localhost:8080/"
        },
        "id": "ffLw2Lksq16U",
        "outputId": "c4a7660c-effa-492d-a7ec-c5ab9dcfcd0f"
      },
      "execution_count": 11,
      "outputs": [
        {
          "output_type": "stream",
          "name": "stdout",
          "text": [
            "63\n"
          ]
        }
      ]
    },
    {
      "cell_type": "code",
      "source": [
        "#kruskal \n",
        "\n",
        "def find(parent,i):\n",
        "    if parent[i] == i:\n",
        "       return i\n",
        "    return find(parent,parent[i])\n",
        "\n",
        "def union(parent,x,y):\n",
        "    parent[x] = y\n",
        "    return parent\n",
        "\n",
        "def kruskal(nodes,u,v,w):\n",
        "    parent = [i for i in range(nodes+1)]\n",
        "    E = [[i,j,k] for i,j,k in zip(u,v,w)]\n",
        "    i,e,res = 0,0,0\n",
        "    E.sort(key = lambda a : a[-1])\n",
        "    while e < nodes - 1:\n",
        "         uu,vv,ww = E[i]\n",
        "         xr = find(parent,uu)\n",
        "         yr = find(parent,vv)\n",
        "         if xr!= yr:\n",
        "            e+=1\n",
        "            res+=ww\n",
        "            parent = union(parent,xr,yr)\n",
        "         i+=1\n",
        "    return res\n",
        "nodes , edges = map(int,input().rstrip().split())\n",
        "u = [0]*edges\n",
        "v = [0]*edges\n",
        "w = [0]*edges\n",
        "for i in range(edges):\n",
        "     u[i],v[i],w[i] = map(int,input().rstrip().split())\n",
        "res = kruskal(nodes,u,v,w)\n",
        "print(res)\n"
      ],
      "metadata": {
        "colab": {
          "base_uri": "https://localhost:8080/"
        },
        "id": "9kQJuO4iDGg0",
        "outputId": "da55f8a6-d2a4-4fac-c3dc-5d435728d74d"
      },
      "execution_count": 3,
      "outputs": [
        {
          "output_type": "stream",
          "name": "stdout",
          "text": [
            "4 6\n",
            "1 2 5\n",
            "1 3 3\n",
            "4 1 6\n",
            "2 4 7\n",
            "3 2 4\n",
            "3 4 5\n",
            "12\n"
          ]
        }
      ]
    },
    {
      "cell_type": "code",
      "source": [
        "\n",
        "def is_attack(i, j, board, N):\n",
        "  # checking for column j\n",
        "  for k in range(1, i):\n",
        "    if(board[k][j] == 1):\n",
        "      return True\n",
        "\n",
        "  # checking upper right diagonal\n",
        "  k = i-1\n",
        "  l = j+1\n",
        "  while (k>=1 and l<=N):\n",
        "    if (board[k][l] == 1):\n",
        "      return True\n",
        "    k=k+1\n",
        "    l=l+1\n",
        "\n",
        "  # checking upper left diagonal\n",
        "  k = i-1\n",
        "  l = j-1\n",
        "  while (k>=1 and l>=1):\n",
        "    if (board[k][l] == 1):\n",
        "      return True\n",
        "    k=k-1\n",
        "    l=l-1\n",
        "\n",
        "  return False\n",
        "\n",
        "def n_queen(row, n, N, board):\n",
        "  if (n==0):\n",
        "    return True\n",
        "\n",
        "  for j in range(1, N+1):\n",
        "    if(not(is_attack(row, j, board, N))):\n",
        "      board[row][j] = 1\n",
        "\n",
        "      if (n_queen(row+1, n-1, N, board)):\n",
        "        return True\n",
        "\n",
        "      board[row][j] = 0 #backtracking\n",
        "  return False\n",
        "\n",
        "if __name__ == '__main__':\n",
        "  board = [[0,0,0,0,0],[0,0,0,0,0],[0,0,0,0,0],[0,0,0,0,0],[0,0,0,0,0]]\n",
        "\n",
        "  n_queen(1, 4, 4, board)\n",
        "\n",
        "  #printing the matix\n",
        "  for i in range(1, 5):\n",
        "      print(board[i][1:])\n",
        "\n",
        "\n"
      ],
      "metadata": {
        "colab": {
          "base_uri": "https://localhost:8080/"
        },
        "id": "vY2p5L8EH71K",
        "outputId": "bb4e3891-2c2f-4680-c804-aec01b9e8e24"
      },
      "execution_count": 22,
      "outputs": [
        {
          "output_type": "stream",
          "name": "stdout",
          "text": [
            "[0, 1, 0, 0]\n",
            "[0, 0, 0, 1]\n",
            "[1, 0, 0, 0]\n",
            "[0, 0, 1, 0]\n"
          ]
        }
      ]
    }
  ]
}